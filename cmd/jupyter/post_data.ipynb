{
 "cells": [
  {
   "cell_type": "code",
   "execution_count": null,
   "id": "64597508-285a-43e7-a38b-976166c431da",
   "metadata": {},
   "outputs": [],
   "source": [
    "import requests\n",
    "from pathlib import Path\n",
    "\n",
    "file_path = \"./sample_files/structured/process_data.json\"\n",
    "json_data = Path(file_path).read_text()\n",
    "\n",
    "basic_auth_user = \"n\"\n",
    "basic_auth_password = \"Qwerty12345\"\n",
    "\n",
    "NEMESIS_HTTP_SERVER=\"http://ingress-nginx-controller.ingress-nginx.svc.cluster.local/\"\n",
    "\n",
    "requests.post(f\"{NEMESIS_HTTP_SERVER}api/data\", data=json_data, auth=(basic_auth_user, basic_auth_password)).json()"
   ]
  }
 ],
 "metadata": {
  "kernelspec": {
   "display_name": "Python 3.10.6 64-bit",
   "language": "python",
   "name": "python3"
  },
  "language_info": {
   "codemirror_mode": {
    "name": "ipython",
    "version": 3
   },
   "file_extension": ".py",
   "mimetype": "text/x-python",
   "name": "python",
   "nbconvert_exporter": "python",
   "pygments_lexer": "ipython3",
   "version": "3.10.6"
  },
  "vscode": {
   "interpreter": {
    "hash": "e7370f93d1d0cde622a1f8e1c04877d8463912d04d973331ad4851f04de6915a"
   }
  }
 },
 "nbformat": 4,
 "nbformat_minor": 5
}
